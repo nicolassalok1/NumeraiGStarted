{
 "cells": [
  {
   "cell_type": "markdown",
   "metadata": {
    "id": "ZqK_u9k-hMqE"
   },
   "source": [
    "# Model Upload"
   ]
  },
  {
   "cell_type": "code",
   "metadata": {
    "colab": {
     "base_uri": "https://localhost:8080/"
    },
    "id": "Ekw8Z93ljC3v",
    "outputId": "675ac893-5a46-4c6b-dc03-09438941d1fc",
    "ExecuteTime": {
     "end_time": "2025-05-11T14:15:36.371688600Z",
     "start_time": "2025-05-11T13:50:58.604452Z"
    }
   },
   "source": "#!python --version",
   "outputs": [],
   "execution_count": 1
  },
  {
   "cell_type": "code",
   "metadata": {
    "colab": {
     "base_uri": "https://localhost:8080/"
    },
    "id": "yoy_wT1rhMqF",
    "outputId": "4268fdb0-84d2-4502-97e4-e93a1440c8ee",
    "ExecuteTime": {
     "end_time": "2025-05-11T14:15:36.371688600Z",
     "start_time": "2025-05-11T13:50:58.797023Z"
    }
   },
   "source": [
    "# Install dependencies\n",
    "#!pip install -q numerapi pandas lightgbm cloudpickle==2.2.1 pyarrow scikit-learn scipy==1.10.1"
   ],
   "outputs": [],
   "execution_count": 2
  },
  {
   "cell_type": "code",
   "metadata": {
    "colab": {
     "base_uri": "https://localhost:8080/",
     "height": 17
    },
    "id": "13hdRk9ghMqI",
    "outputId": "857a4882-83e5-4a76-9b1e-57d6d822cc67",
    "ExecuteTime": {
     "end_time": "2025-05-11T14:15:36.311223Z",
     "start_time": "2025-05-11T13:50:59.075080Z"
    }
   },
   "source": [
    "from numerapi import NumerAPI\n",
    "import pandas as pd\n",
    "import json\n",
    "napi = NumerAPI()\n",
    "\n",
    "# use one of the latest data versions\n",
    "DATA_VERSION = \"v5.0\"\n",
    "\n",
    "# Download data\n",
    "napi.download_dataset(f\"{DATA_VERSION}/train.parquet\")\n",
    "napi.download_dataset(f\"{DATA_VERSION}/features.json\")\n",
    "\n",
    "# Load data\n",
    "feature_metadata = json.load(open(f\"{DATA_VERSION}/features.json\"))\n",
    "features = feature_metadata[\"feature_sets\"][\"medium\"] # use \"all\" for better performance. Requires more RAM.\n",
    "train = pd.read_parquet(f\"{DATA_VERSION}/train.parquet\", columns=[\"era\"]+features+[\"target\"])\n",
    "\n",
    "# For better models, join train and validation data and train on all of it.\n",
    "# This would cause diagnostics to be misleading though.\n",
    "# napi.download_dataset(f\"{DATA_VERSION}/validation.parquet\")\n",
    "# validation = pd.read_parquet(f\"{DATA_VERSION}/validation.parquet\", columns=[\"era\"]+features+[\"target\"])\n",
    "# validation = validation[validation[\"data_type\"] == \"validation\"] # drop rows which don't have targets yet\n",
    "# train = pd.concat([train, validation])\n",
    "\n",
    "# Downsample for speed\n",
    "train = train[train[\"era\"].isin(train[\"era\"].unique()[::4])]  # skip this step for better performance\n",
    "\n",
    "# Train model\n",
    "import lightgbm as lgb\n",
    "model = lgb.LGBMRegressor(\n",
    "    n_estimators=2000,\n",
    "    learning_rate=0.01,\n",
    "    max_depth=5,\n",
    "    num_leaves=2**5-1,\n",
    "    colsample_bytree=0.1\n",
    ")\n",
    "# We've found the following \"deep\" parameters perform much better, but they require much more CPU and RAM\n",
    "# model = lgb.LGBMRegressor(\n",
    "#     n_estimators=30_000,\n",
    "#     learning_rate=0.001,\n",
    "#     max_depth=10,\n",
    "#     num_leaves=2**10,\n",
    "#     colsample_bytree=0.1\n",
    "#     min_data_in_leaf=10000,\n",
    "# )\n",
    "model.fit(\n",
    "    train[features],\n",
    "    train[\"target\"]\n",
    ")\n",
    "\n",
    "# Define predict function\n",
    "def predict(\n",
    "    live_features: pd.DataFrame,\n",
    "    live_benchmark_models: pd.DataFrame\n",
    " ) -> pd.DataFrame:\n",
    "    live_predictions = model.predict(live_features[features])\n",
    "    submission = pd.Series(live_predictions, index=live_features.index)\n",
    "    return submission.to_frame(\"prediction\")\n",
    "\n",
    "# Pickle predict function\n",
    "import cloudpickle\n",
    "p = cloudpickle.dumps(predict)\n",
    "with open(\"example_model.pkl\", \"wb\") as f:\n",
    "    f.write(p)\n",
    "\n",
    "# Download file if running in Google Colab\n",
    "try:\n",
    "    from google.colab import files\n",
    "    files.download('example_model.pkl')\n",
    "except:\n",
    "    pass"
   ],
   "outputs": [
    {
     "name": "stderr",
     "output_type": "stream",
     "text": [
      "2025-05-11 15:51:00,803 INFO numerapi.utils: starting download\n",
      "v5.0/train.parquet: 100%|█████████▉| 2.37G/2.37G [24:34<00:00, 2.70MB/s]   "
     ]
    },
    {
     "ename": "PermissionError",
     "evalue": "[WinError 32] Le processus ne peut pas accéder au fichier car ce fichier est utilisé par un autre processus: 'v5.0/train.parquet.temp' -> 'v5.0/train.parquet'",
     "output_type": "error",
     "traceback": [
      "\u001B[1;31m---------------------------------------------------------------------------\u001B[0m",
      "\u001B[1;31mPermissionError\u001B[0m                           Traceback (most recent call last)",
      "Cell \u001B[1;32mIn[3], line 10\u001B[0m\n\u001B[0;32m      7\u001B[0m DATA_VERSION \u001B[38;5;241m=\u001B[39m \u001B[38;5;124m\"\u001B[39m\u001B[38;5;124mv5.0\u001B[39m\u001B[38;5;124m\"\u001B[39m\n\u001B[0;32m      9\u001B[0m \u001B[38;5;66;03m# Download data\u001B[39;00m\n\u001B[1;32m---> 10\u001B[0m \u001B[43mnapi\u001B[49m\u001B[38;5;241;43m.\u001B[39;49m\u001B[43mdownload_dataset\u001B[49m\u001B[43m(\u001B[49m\u001B[38;5;124;43mf\u001B[39;49m\u001B[38;5;124;43m\"\u001B[39;49m\u001B[38;5;132;43;01m{\u001B[39;49;00m\u001B[43mDATA_VERSION\u001B[49m\u001B[38;5;132;43;01m}\u001B[39;49;00m\u001B[38;5;124;43m/train.parquet\u001B[39;49m\u001B[38;5;124;43m\"\u001B[39;49m\u001B[43m)\u001B[49m\n\u001B[0;32m     11\u001B[0m napi\u001B[38;5;241m.\u001B[39mdownload_dataset(\u001B[38;5;124mf\u001B[39m\u001B[38;5;124m\"\u001B[39m\u001B[38;5;132;01m{\u001B[39;00mDATA_VERSION\u001B[38;5;132;01m}\u001B[39;00m\u001B[38;5;124m/features.json\u001B[39m\u001B[38;5;124m\"\u001B[39m)\n\u001B[0;32m     13\u001B[0m \u001B[38;5;66;03m# Load data\u001B[39;00m\n",
      "File \u001B[1;32mD:\\Programmes\\Anaconda\\envs\\NumeraiGstarted\\lib\\site-packages\\numerapi\\base_api.py:200\u001B[0m, in \u001B[0;36mApi.download_dataset\u001B[1;34m(self, filename, dest_path, round_num)\u001B[0m\n\u001B[0;32m    197\u001B[0m args \u001B[38;5;241m=\u001B[39m {\u001B[38;5;124m'\u001B[39m\u001B[38;5;124mfilename\u001B[39m\u001B[38;5;124m'\u001B[39m: filename, \u001B[38;5;124m\"\u001B[39m\u001B[38;5;124mround\u001B[39m\u001B[38;5;124m\"\u001B[39m: round_num}\n\u001B[0;32m    199\u001B[0m dataset_url \u001B[38;5;241m=\u001B[39m \u001B[38;5;28mself\u001B[39m\u001B[38;5;241m.\u001B[39mraw_query(query, args)[\u001B[38;5;124m'\u001B[39m\u001B[38;5;124mdata\u001B[39m\u001B[38;5;124m'\u001B[39m][\u001B[38;5;124m'\u001B[39m\u001B[38;5;124mdataset\u001B[39m\u001B[38;5;124m'\u001B[39m]\n\u001B[1;32m--> 200\u001B[0m \u001B[43mutils\u001B[49m\u001B[38;5;241;43m.\u001B[39;49m\u001B[43mdownload_file\u001B[49m\u001B[43m(\u001B[49m\u001B[43mdataset_url\u001B[49m\u001B[43m,\u001B[49m\u001B[43m \u001B[49m\u001B[43mdest_path\u001B[49m\u001B[43m,\u001B[49m\u001B[43m \u001B[49m\u001B[38;5;28;43mself\u001B[39;49m\u001B[38;5;241;43m.\u001B[39;49m\u001B[43mshow_progress_bars\u001B[49m\u001B[43m)\u001B[49m\n\u001B[0;32m    201\u001B[0m \u001B[38;5;28;01mreturn\u001B[39;00m dest_path\n",
      "File \u001B[1;32mD:\\Programmes\\Anaconda\\envs\\NumeraiGstarted\\lib\\site-packages\\numerapi\\utils.py:103\u001B[0m, in \u001B[0;36mdownload_file\u001B[1;34m(url, dest_path, show_progress_bars)\u001B[0m\n\u001B[0;32m    101\u001B[0m         pbar\u001B[38;5;241m.\u001B[39mupdate(\u001B[38;5;241m1024\u001B[39m)\n\u001B[0;32m    102\u001B[0m \u001B[38;5;66;03m# move temp file to target destination\u001B[39;00m\n\u001B[1;32m--> 103\u001B[0m \u001B[43mos\u001B[49m\u001B[38;5;241;43m.\u001B[39;49m\u001B[43mreplace\u001B[49m\u001B[43m(\u001B[49m\u001B[43mtemp_path\u001B[49m\u001B[43m,\u001B[49m\u001B[43m \u001B[49m\u001B[43mdest_path\u001B[49m\u001B[43m)\u001B[49m\n\u001B[0;32m    104\u001B[0m \u001B[38;5;28;01mreturn\u001B[39;00m dest_path\n",
      "\u001B[1;31mPermissionError\u001B[0m: [WinError 32] Le processus ne peut pas accéder au fichier car ce fichier est utilisé par un autre processus: 'v5.0/train.parquet.temp' -> 'v5.0/train.parquet'"
     ]
    }
   ],
   "execution_count": 3
  }
 ],
 "metadata": {
  "colab": {
   "provenance": []
  },
  "kernelspec": {
   "display_name": "venv",
   "language": "python",
   "name": "python3"
  },
  "language_info": {
   "codemirror_mode": {
    "name": "ipython",
    "version": 3
   },
   "file_extension": ".py",
   "mimetype": "text/x-python",
   "name": "python",
   "nbconvert_exporter": "python",
   "pygments_lexer": "ipython3",
   "version": "3.10.12"
  },
  "orig_nbformat": 4
 },
 "nbformat": 4,
 "nbformat_minor": 0
}
